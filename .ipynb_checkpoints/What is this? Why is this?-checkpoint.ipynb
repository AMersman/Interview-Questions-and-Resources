{
 "cells": [
  {
   "cell_type": "markdown",
   "id": "1b1d60dc",
   "metadata": {},
   "source": [
    "Welcome! If you're here you are either looking at my portfolio to get a sense of my experience or you are also a data science fanatic looking for ways to strengthen your coding skills and data science knowledge. \n",
    "\n",
    "I am creating this repository because I know it can be overwhelming thinking about interviewing and struggling with where you fit it in; wondering if you will ever pass that tech interview or even get that interview. \n",
    "\n",
    "Here you'll be able to find common technical interview questions and answers (as well as the explanation for that answer and resources to dig a little deeper if you are still struggling to understand). \n",
    "\n",
    "One of the things I love about the tech industry is how incredibly suuportive people are and I hope to help add to the feeling with the community of data scientists specifically and tech in general. "
   ]
  }
 ],
 "metadata": {
  "kernelspec": {
   "display_name": "Python 3",
   "language": "python",
   "name": "python3"
  },
  "language_info": {
   "codemirror_mode": {
    "name": "ipython",
    "version": 3
   },
   "file_extension": ".py",
   "mimetype": "text/x-python",
   "name": "python",
   "nbconvert_exporter": "python",
   "pygments_lexer": "ipython3",
   "version": "3.8.8"
  }
 },
 "nbformat": 4,
 "nbformat_minor": 5
}
