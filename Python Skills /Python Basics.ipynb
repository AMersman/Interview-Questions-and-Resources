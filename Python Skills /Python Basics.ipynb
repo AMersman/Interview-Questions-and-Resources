{
 "cells": [
  {
   "cell_type": "markdown",
   "id": "2e17c503",
   "metadata": {},
   "source": [
    "A huge part of data science is being able to manipulate data. It important to understand computer science fundamentals. Python is the language most data scientists use, though R is popular too, because it is a high-level general-purpose programming language. \n",
    "\n",
    "Remember: Part of the fun of coding is that there is no one right answer. This is how I would code it and my explanation."
   ]
  },
  {
   "cell_type": "markdown",
   "id": "8eb7a378",
   "metadata": {},
   "source": [
    "If you don't already I highly suggest HackerRank. It's a fun, easy way to practice your coding. \n",
    "\n",
    "HackerRank.com"
   ]
  },
  {
   "cell_type": "markdown",
   "id": "c79774f1",
   "metadata": {},
   "source": [
    "# FizzBuzz\n",
    "https://www.hackerrank.com/challenges/fizzbuzz/problem\n",
    "\n",
    "Here's the general idea.\n",
    "Problem description: Given an integer n, return a string array result where:\n",
    "\n",
    "result[i] == “FizzBuzz” if i is divisible by 3 and 5.\n",
    "result[i] == “Fizz” if i is divisible by 3.\n",
    "result[i] == “Buzz” if i is divisible by 5.\n",
    "result[i] == i in any other case.\n"
   ]
  },
  {
   "cell_type": "code",
   "execution_count": 1,
   "id": "4ca285dc",
   "metadata": {},
   "outputs": [
    {
     "name": "stdout",
     "output_type": "stream",
     "text": [
      "['1', '2', 'Fizz', '4', 'Buzz', 'Fizz', '7', '8', 'Fizz', 'Buzz', '11', 'Fizz', '13', '14', 'FizzBuzz']\n"
     ]
    }
   ],
   "source": [
    "#def function first, don't forget to close it with a colon!\n",
    "def FizzBuzz(n):\n",
    "    # empty list to store the results\n",
    "    arr = []\n",
    "    #iterate over the range of (1, n+1)\n",
    "    #remember that range has parameters (start, stop(not inclusive!), step)\n",
    "    for num in range(1, n+1):\n",
    "        #For numbers which are multiples of both 3 and 5, print \"FizzBuzz\" instead of the number.\n",
    "        if num %3 == 0 and num % 5 == 0:\n",
    "            arr.append('FizzBuzz')\n",
    "        #For each multiple of 3, print \"Fizz\" instead of the number. \n",
    "        elif num % 3 == 0:\n",
    "            arr.append('Fizz')\n",
    "        #For each multiple of 5, print \"Buzz\" instead of the number.\n",
    "        elif num % 5 == 0:\n",
    "            arr.append('Buzz')\n",
    "        #For numbers not divisible by 3 or 5 or (3 and 5)\n",
    "        else:\n",
    "            arr.append(str(num))\n",
    "    #return arr\n",
    "    return arr\n",
    "\n",
    "\n",
    "#test function FizzBuzz\n",
    "print(FizzBuzz(15))\n",
    "\n",
    "\n",
    "    "
   ]
  },
  {
   "cell_type": "markdown",
   "id": "d793931e",
   "metadata": {},
   "source": [
    "Here's another way to do it that tests all numbers from 1-100 inclusive; this is how hackerrank poses the question:\n",
    "--Write a short program that prints each number from 1 to 100 on a new line. \n",
    "\n",
    "For each multiple of 3, print \"Fizz\" instead of the number. \n",
    "\n",
    "For each multiple of 5, print \"Buzz\" instead of the number. \n",
    "\n",
    "For numbers which are multiples of both 3 and 5, print \"FizzBuzz\" instead of the number.--"
   ]
  },
  {
   "cell_type": "code",
   "execution_count": 2,
   "id": "9281e3d4",
   "metadata": {},
   "outputs": [
    {
     "name": "stdout",
     "output_type": "stream",
     "text": [
      "1, 2, Fizz, 4, Buzz, Fizz, 7, 8, Fizz, Buzz, 11, Fizz, 13, 14, FizzBuzz, 16, 17, Fizz, 19, Buzz, Fizz, 22, 23, Fizz, Buzz, 26, Fizz, 28, 29, FizzBuzz, 31, 32, Fizz, 34, Buzz, Fizz, 37, 38, Fizz, Buzz, 41, Fizz, 43, 44, FizzBuzz, 46, 47, Fizz, 49, Buzz, Fizz, 52, 53, Fizz, Buzz, 56, Fizz, 58, 59, FizzBuzz, 61, 62, Fizz, 64, Buzz, Fizz, 67, 68, Fizz, Buzz, 71, Fizz, 73, 74, FizzBuzz, 76, 77, Fizz, 79, Buzz, Fizz, 82, 83, Fizz, Buzz, 86, Fizz, 88, 89, FizzBuzz, 91, 92, Fizz, 94, Buzz, Fizz, 97, 98, Fizz, Buzz, "
     ]
    }
   ],
   "source": [
    "#set i = 1 as our starting number\n",
    "i=1\n",
    "#use while loop to execute the program between 1-100 only\n",
    "while i <= 100:\n",
    "    #us if statement for divisible by 3\n",
    "    if i%3==0:\n",
    "        print(\"Fizz\", end=\"\")\n",
    "        #nest an if statement that adds Buzz only if int is also divisible by 5\n",
    "        if i%5==0:\n",
    "            print(\"Buzz\", end=\"\")\n",
    "    #use elif statement if its only divisible by 5\n",
    "    elif i%5==0:\n",
    "        print(\"Buzz\", end=\"\")\n",
    "    #an else statement to print the integer\n",
    "    else:\n",
    "        print(i, end=\"\")\n",
    "    #print all the statements\n",
    "    print(end = \", \")\n",
    "    #add 1 to i and reenter the while loop\n",
    "    i+=1"
   ]
  },
  {
   "cell_type": "markdown",
   "id": "7b9dad35",
   "metadata": {},
   "source": [
    "Notice the differences in the two questions and answers.\n",
    "To understand how the second program uses the parameter 'end' in print() to format the output, check out: https://www.w3schools.com/python/ref_func_print.asp\n"
   ]
  },
  {
   "cell_type": "markdown",
   "id": "6d791dd2",
   "metadata": {},
   "source": [
    "# Check if two strings are an anagram\n",
    "An Anagram is a word or phrase formed by rearranging the letters of a different word or phrase, typically using all the letters exactly once. \n",
    "\n",
    "Problem description: Given two strings a and b, return True if b is an anagram of a, and False otherwise.\n",
    "\n",
    "There is also a version on hackerrank to test your understanding.\n",
    "https://www.hackerrank.com/challenges/anagram/problem"
   ]
  },
  {
   "cell_type": "code",
   "execution_count": 3,
   "id": "c5e3e8de",
   "metadata": {},
   "outputs": [
    {
     "name": "stdout",
     "output_type": "stream",
     "text": [
      "True\n"
     ]
    }
   ],
   "source": [
    "#most pythonic way, use sorted() \n",
    "#https://www.w3schools.com/python/ref_func_sorted.asp\n",
    "\n",
    "#define your function:\n",
    "def anagram_test(a, b):\n",
    "    #covert both strings to lowercase to avoid case issues\n",
    "    a = a.lower()\n",
    "    b = b.lower()\n",
    "    \n",
    "    # compare sorted strings\n",
    "    if (sorted(a)==sorted(b)):\n",
    "        print('True')\n",
    "    else:\n",
    "        print('False')\n",
    "  \n",
    "anagram_test('knee', 'Keen')\n",
    "    \n",
    "    "
   ]
  },
  {
   "cell_type": "code",
   "execution_count": 4,
   "id": "e5d8bf3e",
   "metadata": {},
   "outputs": [
    {
     "name": "stdout",
     "output_type": "stream",
     "text": [
      "True\n"
     ]
    }
   ],
   "source": [
    "#not most pythonic but more universal\n",
    "#define function\n",
    "def check(a, b):\n",
    "    ##covert both strings to lowercase to avoid case issues\n",
    "    a = a.lower()\n",
    "    b = b.lower()\n",
    "    #anagrams have the same number of characters to check length first\n",
    "    if len(a) != len(b):\n",
    "        print(False)\n",
    "    #dictionaries are great for equality comparison bc\n",
    "    #they are not ordered\n",
    "    #create dictionaries for storing results\n",
    "    dict_a = {}\n",
    "    dict_b = {}\n",
    "    \n",
    "    #letter counts for string a\n",
    "    for letter in a:\n",
    "        if letter not in dict_a:\n",
    "            dict_a[letter]=1\n",
    "        else:\n",
    "            dict_a[letter]+=1\n",
    "    #letter counts for string b        \n",
    "    for letter in b:\n",
    "        if letter not in dict_b:\n",
    "            dict_b[letter]=1\n",
    "        else:\n",
    "            dict_b[letter]+=1\n",
    "    #compare dicts and print output        \n",
    "    print(True if dict_a == dict_b else False)\n",
    "\n",
    "check('keen', 'Knee')\n",
    "    "
   ]
  },
  {
   "cell_type": "markdown",
   "id": "62b22fb3",
   "metadata": {},
   "source": [
    "List of Interview Question Sources and other Resources\n",
    "https://appsilon.com/data-science-coding-interview-questions/\n",
    "hackerrank.com"
   ]
  }
 ],
 "metadata": {
  "kernelspec": {
   "display_name": "Python 3",
   "language": "python",
   "name": "python3"
  },
  "language_info": {
   "codemirror_mode": {
    "name": "ipython",
    "version": 3
   },
   "file_extension": ".py",
   "mimetype": "text/x-python",
   "name": "python",
   "nbconvert_exporter": "python",
   "pygments_lexer": "ipython3",
   "version": "3.8.8"
  }
 },
 "nbformat": 4,
 "nbformat_minor": 5
}
